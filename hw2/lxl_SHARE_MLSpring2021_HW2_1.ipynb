{
 "nbformat": 4,
 "nbformat_minor": 0,
 "metadata": {
  "accelerator": "GPU",
  "colab": {
   "name": "SHARE MLSpring2021 - HW2-1.ipynb",
   "provenance": []
  },
  "kernelspec": {
   "name": "python3",
   "language": "python",
   "display_name": "Python 3 (ipykernel)"
  }
 },
 "cells": [
  {
   "cell_type": "markdown",
   "metadata": {
    "id": "OYlaRwNu7ojq"
   },
   "source": [
    "# **Homework 2-1 Phoneme Classification**\n",
    "\n",
    "* Slides: https://speech.ee.ntu.edu.tw/~hylee/ml/ml2021-course-data/hw/HW02/HW02.pdf\n",
    "* Video (Chinese): https://youtu.be/PdjXnQbu2zo\n",
    "* Video (English): https://youtu.be/ESRr-VCykBs\n"
   ]
  },
  {
   "cell_type": "markdown",
   "metadata": {
    "id": "emUd7uS7crTz"
   },
   "source": [
    "## The DARPA TIMIT Acoustic-Phonetic Continuous Speech Corpus (TIMIT)\n",
    "The TIMIT corpus of reading speech has been designed to provide speech data for the acquisition of acoustic-phonetic knowledge and for the development and evaluation of automatic speech recognition systems.\n",
    "\n",
    "This homework is a multiclass classification task,\n",
    "we are going to train a deep neural network classifier to predict the phonemes for each frame from the speech corpus TIMIT.\n",
    "\n",
    "link: https://academictorrents.com/details/34e2b78745138186976cbc27939b1b34d18bd5b3"
   ]
  },
  {
   "cell_type": "markdown",
   "metadata": {
    "id": "KVUGfWTo7_Oj"
   },
   "source": [
    "## Download Data\n",
    "Download data from google drive, then unzip it.\n",
    "\n",
    "You should have `timit_11/train_11.npy`, `timit_11/train_label_11.npy`, and `timit_11/test_11.npy` after running this block.<br><br>\n",
    "`timit_11/`\n",
    "- `train_11.npy`: training data<br>\n",
    "- `train_label_11.npy`: training label<br>\n",
    "- `test_11.npy`:  testing data<br><br>\n",
    "\n",
    "**notes: if the google drive link is dead, you can download the data directly from Kaggle and upload it to the workspace**\n",
    "\n",
    "\n"
   ]
  },
  {
   "cell_type": "code",
   "metadata": {
    "colab": {
     "base_uri": "https://localhost:8080/"
    },
    "id": "OzkiMEcC3Foq",
    "outputId": "4308c64c-6885-4d1c-8eb7-a2d9b8038401",
    "ExecuteTime": {
     "end_time": "2024-03-22T01:47:39.361764Z",
     "start_time": "2024-03-22T01:47:39.315711Z"
    }
   },
   "source": [
    "# !gdown --id '1HPkcmQmFGu-3OknddKIa5dNDsR05lIQR' --output data.zip\n",
    "# !unzip data.zip\n",
    "# !ls"
   ],
   "execution_count": 14,
   "outputs": []
  },
  {
   "cell_type": "markdown",
   "metadata": {
    "id": "_L_4anls8Drv"
   },
   "source": [
    "## Preparing Data\n",
    "Load the training and testing data from the `.npy` file (NumPy array)."
   ]
  },
  {
   "cell_type": "code",
   "metadata": {
    "colab": {
     "base_uri": "https://localhost:8080/"
    },
    "id": "IJjLT8em-y9G",
    "outputId": "8edc6bfe-7511-447f-f239-00b96dba6dcf",
    "ExecuteTime": {
     "end_time": "2024-03-22T01:47:45.365877Z",
     "start_time": "2024-03-22T01:47:39.320011Z"
    }
   },
   "source": [
    "import numpy as np\n",
    "\n",
    "print('Loading data ...')\n",
    "\n",
    "data_root='./timit_11/'\n",
    "train = np.load(data_root + 'train_11.npy')\n",
    "train_label = np.load(data_root + 'train_label_11.npy')\n",
    "test = np.load(data_root + 'test_11.npy')\n",
    "\n",
    "print('Size of training data: {}'.format(train.shape))\n",
    "print('Size of testing data: {}'.format(test.shape))"
   ],
   "execution_count": 15,
   "outputs": [
    {
     "name": "stdout",
     "output_type": "stream",
     "text": [
      "Loading data ...\n",
      "Size of training data: (1229932, 429)\n",
      "Size of testing data: (451552, 429)\n"
     ]
    }
   ]
  },
  {
   "cell_type": "markdown",
   "metadata": {
    "id": "us5XW_x6udZQ"
   },
   "source": [
    "## Create Dataset"
   ]
  },
  {
   "cell_type": "code",
   "metadata": {
    "id": "Fjf5EcmJtf4e",
    "ExecuteTime": {
     "end_time": "2024-03-22T01:47:45.373721Z",
     "start_time": "2024-03-22T01:47:45.371386Z"
    }
   },
   "source": [
    "import torch\n",
    "from torch.utils.data import Dataset\n",
    "\n",
    "class TIMITDataset(Dataset):\n",
    "    def __init__(self, X, y=None):\n",
    "        self.data = torch.from_numpy(X).float()\n",
    "        if y is not None:\n",
    "            y = y.astype(np.int64)\n",
    "            self.label = torch.LongTensor(y)\n",
    "        else:\n",
    "            self.label = None\n",
    "\n",
    "    def __getitem__(self, idx):\n",
    "        if self.label is not None:\n",
    "            return self.data[idx], self.label[idx]\n",
    "        else:\n",
    "            return self.data[idx]\n",
    "\n",
    "    def __len__(self):\n",
    "        return len(self.data)\n"
   ],
   "execution_count": 16,
   "outputs": []
  },
  {
   "cell_type": "markdown",
   "metadata": {
    "id": "otIC6WhGeh9v"
   },
   "source": [
    "Split the labeled data into a training set and a validation set, you can modify the variable `VAL_RATIO` to change the ratio of validation data."
   ]
  },
  {
   "cell_type": "code",
   "metadata": {
    "colab": {
     "base_uri": "https://localhost:8080/"
    },
    "id": "sYqi_lAuvC59",
    "outputId": "13dabe63-4849-47ee-fe04-57427b9d601c",
    "ExecuteTime": {
     "end_time": "2024-03-22T01:47:45.398804Z",
     "start_time": "2024-03-22T01:47:45.375781Z"
    }
   },
   "source": [
    "VAL_RATIO = 0.2\n",
    "\n",
    "percent = int(train.shape[0] * (1 - VAL_RATIO))\n",
    "train_x, train_y, val_x, val_y = train[:percent], train_label[:percent], train[percent:], train_label[percent:]\n",
    "print('Size of training set: {}'.format(train_x.shape))\n",
    "print('Size of validation set: {}'.format(val_x.shape))"
   ],
   "execution_count": 17,
   "outputs": [
    {
     "name": "stdout",
     "output_type": "stream",
     "text": [
      "Size of training set: (983945, 429)\n",
      "Size of validation set: (245987, 429)\n"
     ]
    }
   ]
  },
  {
   "cell_type": "markdown",
   "metadata": {
    "id": "nbCfclUIgMTX"
   },
   "source": [
    "Create a data loader from the dataset, feel free to tweak the variable `BATCH_SIZE` here."
   ]
  },
  {
   "cell_type": "code",
   "metadata": {
    "id": "RUCbQvqJurYc",
    "ExecuteTime": {
     "end_time": "2024-03-22T01:47:46.499227Z",
     "start_time": "2024-03-22T01:47:45.382367Z"
    }
   },
   "source": [
    "BATCH_SIZE = 64\n",
    "\n",
    "from torch.utils.data import DataLoader\n",
    "\n",
    "train_set = TIMITDataset(train_x, train_y)\n",
    "val_set = TIMITDataset(val_x, val_y)\n",
    "train_loader = DataLoader(train_set, batch_size=BATCH_SIZE, shuffle=True) #only shuffle the training data\n",
    "val_loader = DataLoader(val_set, batch_size=BATCH_SIZE, shuffle=False)"
   ],
   "execution_count": 18,
   "outputs": []
  },
  {
   "cell_type": "markdown",
   "metadata": {
    "id": "_SY7X0lUgb50"
   },
   "source": [
    "Cleanup the unneeded variables to save memory.<br>\n",
    "\n",
    "**notes: if you need to use these variables later, then you may remove this block or clean up unneeded variables later<br>the data size is quite huge, so be aware of memory usage in colab**"
   ]
  },
  {
   "cell_type": "code",
   "metadata": {
    "colab": {
     "base_uri": "https://localhost:8080/"
    },
    "id": "y8rzkGraeYeN",
    "outputId": "dc790996-a43c-4a99-90d4-e7928892a899",
    "ExecuteTime": {
     "end_time": "2024-03-22T01:47:46.602287Z",
     "start_time": "2024-03-22T01:47:46.599249Z"
    }
   },
   "source": [
    "import gc\n",
    "\n",
    "del train, train_label, train_x, train_y, val_x, val_y\n",
    "gc.collect()"
   ],
   "execution_count": 19,
   "outputs": [
    {
     "data": {
      "text/plain": "33"
     },
     "execution_count": 19,
     "metadata": {},
     "output_type": "execute_result"
    }
   ]
  },
  {
   "cell_type": "markdown",
   "metadata": {
    "id": "IRqKNvNZwe3V"
   },
   "source": [
    "## Create Model"
   ]
  },
  {
   "cell_type": "markdown",
   "metadata": {
    "id": "FYr1ng5fh9pA"
   },
   "source": [
    "Define model architecture, you are encouraged to change and experiment with the model architecture."
   ]
  },
  {
   "cell_type": "code",
   "metadata": {
    "id": "lbZrwT6Ny0XL",
    "ExecuteTime": {
     "end_time": "2024-03-22T08:20:56.778836Z",
     "start_time": "2024-03-22T08:20:56.734065Z"
    }
   },
   "source": [
    "import torch\n",
    "import torch.nn as nn\n",
    "\n",
    "class Classifier(nn.Module):\n",
    "    def __init__(self):\n",
    "        super(Classifier, self).__init__()\n",
    "        self.layer0 = nn.Linear(429, 2048)\n",
    "        self.layer1 = nn.Linear(2048, 1024)\n",
    "        self.layer2 = nn.Linear(1024, 512)\n",
    "        self.layer3 = nn.Linear(512, 128)\n",
    "        self.out = nn.Linear(128, 39)\n",
    "\n",
    "        self.act_fn = nn.ReLU()\n",
    "        self.dropout = nn.Dropout(p=0.2)\n",
    "        self.act_fn0 = nn.BatchNorm1d(2048)\n",
    "        self.act_fn1 = nn.BatchNorm1d(1024)\n",
    "        self.act_fn2 = nn.BatchNorm1d(512)\n",
    "        self.act_fn3 = nn.BatchNorm1d(128)\n",
    "\n",
    "    def forward(self, x):\n",
    "        x = self.layer0(x)\n",
    "        x = self.act_fn0(x)\n",
    "        x = self.act_fn(x)\n",
    "        x = self.dropout(x)\n",
    "        \n",
    "        x = self.layer1(x)\n",
    "        x = self.act_fn1(x)\n",
    "        x = self.act_fn(x)\n",
    "        x = self.dropout(x)\n",
    "\n",
    "        x = self.layer2(x)\n",
    "        x = self.act_fn2(x)\n",
    "        x = self.act_fn(x)\n",
    "        x = self.dropout(x)\n",
    "\n",
    "        x = self.layer3(x)\n",
    "        x = self.act_fn3(x)\n",
    "        x = self.act_fn(x)\n",
    "\n",
    "        x = self.out(x)\n",
    "\n",
    "        return x"
   ],
   "execution_count": 47,
   "outputs": []
  },
  {
   "cell_type": "markdown",
   "metadata": {
    "id": "VRYciXZvPbYh"
   },
   "source": [
    "## Training"
   ]
  },
  {
   "cell_type": "code",
   "metadata": {
    "id": "y114Vmm3Ja6o",
    "ExecuteTime": {
     "end_time": "2024-03-22T08:20:56.800834Z",
     "start_time": "2024-03-22T08:20:56.737277Z"
    }
   },
   "source": [
    "#check device\n",
    "def get_device():\n",
    "  return 'cuda' if torch.cuda.is_available() else 'cpu'"
   ],
   "execution_count": 48,
   "outputs": []
  },
  {
   "cell_type": "markdown",
   "metadata": {
    "id": "sEX-yjHjhGuH"
   },
   "source": [
    "Fix random seeds for reproducibility."
   ]
  },
  {
   "cell_type": "code",
   "metadata": {
    "id": "88xPiUnm0tAd",
    "ExecuteTime": {
     "end_time": "2024-03-22T08:20:56.802491Z",
     "start_time": "2024-03-22T08:20:56.741847Z"
    }
   },
   "source": [
    "# fix random seed\n",
    "def same_seeds(seed):\n",
    "    torch.manual_seed(seed)\n",
    "    if torch.cuda.is_available():\n",
    "        torch.cuda.manual_seed(seed)\n",
    "        torch.cuda.manual_seed_all(seed)\n",
    "    np.random.seed(seed)\n",
    "    torch.backends.cudnn.benchmark = False\n",
    "    torch.backends.cudnn.deterministic = True"
   ],
   "execution_count": 49,
   "outputs": []
  },
  {
   "cell_type": "markdown",
   "metadata": {
    "id": "KbBcBXkSp6RA"
   },
   "source": [
    "Feel free to change the training parameters here."
   ]
  },
  {
   "cell_type": "code",
   "metadata": {
    "id": "QTp3ZXg1yO9Y",
    "ExecuteTime": {
     "end_time": "2024-03-22T08:20:56.839776Z",
     "start_time": "2024-03-22T08:20:56.746884Z"
    }
   },
   "source": [
    "# fix random seed for reproducibility\n",
    "same_seeds(0)\n",
    "\n",
    "# get device\n",
    "device = get_device()\n",
    "print(f'DEVICE: {device}')\n",
    "\n",
    "# training parameters\n",
    "num_epoch = 40               # number of training epoch\n",
    "learning_rate = 0.0001       # learning rate\n",
    "\n",
    "# the path where checkpoint saved\n",
    "model_path = './model.ckpt'\n",
    "\n",
    "# create model, define a loss function, and optimizer\n",
    "model = Classifier().to(device)\n",
    "criterion = nn.CrossEntropyLoss()\n",
    "optimizer = torch.optim.Adam(model.parameters(), lr=learning_rate)"
   ],
   "execution_count": 50,
   "outputs": [
    {
     "name": "stdout",
     "output_type": "stream",
     "text": [
      "DEVICE: cpu\n"
     ]
    }
   ]
  },
  {
   "cell_type": "code",
   "metadata": {
    "id": "CdMWsBs7zzNs",
    "colab": {
     "base_uri": "https://localhost:8080/"
    },
    "outputId": "c5ed561e-610d-4a35-d936-fd97adf342a0",
    "ExecuteTime": {
     "end_time": "2024-03-22T11:06:57.649512Z",
     "start_time": "2024-03-22T08:20:56.778630Z"
    }
   },
   "source": [
    "# start training\n",
    "\n",
    "best_acc = 0.0\n",
    "for epoch in range(num_epoch):\n",
    "    train_acc = 0.0\n",
    "    train_loss = 0.0\n",
    "    val_acc = 0.0\n",
    "    val_loss = 0.0\n",
    "\n",
    "    # training\n",
    "    model.train() # set the model to training mode\n",
    "    for i, data in enumerate(train_loader):\n",
    "        inputs, labels = data\n",
    "        inputs, labels = inputs.to(device), labels.to(device)\n",
    "        optimizer.zero_grad()\n",
    "        outputs = model(inputs)\n",
    "        batch_loss = criterion(outputs, labels)\n",
    "        _, train_pred = torch.max(outputs, 1) # get the index of the class with the highest probability\n",
    "        batch_loss.backward()\n",
    "        optimizer.step()\n",
    "\n",
    "        train_acc += (train_pred.cpu() == labels.cpu()).sum().item()\n",
    "        train_loss += batch_loss.item()\n",
    "\n",
    "    # validation\n",
    "    if len(val_set) > 0:\n",
    "        model.eval() # set the model to evaluation mode\n",
    "        with torch.no_grad():\n",
    "            for i, data in enumerate(val_loader):\n",
    "                inputs, labels = data\n",
    "                inputs, labels = inputs.to(device), labels.to(device)\n",
    "                outputs = model(inputs)\n",
    "                batch_loss = criterion(outputs, labels)\n",
    "                _, val_pred = torch.max(outputs, 1)\n",
    "\n",
    "                val_acc += (val_pred.cpu() == labels.cpu()).sum().item() # get the index of the class with the highest probability\n",
    "                val_loss += batch_loss.item()\n",
    "\n",
    "            print('[{:03d}/{:03d}] Train Acc: {:3.6f} Loss: {:3.6f} | Val Acc: {:3.6f} loss: {:3.6f}'.format(\n",
    "                epoch + 1, num_epoch, train_acc/len(train_set), train_loss/len(train_loader), val_acc/len(val_set), val_loss/len(val_loader)\n",
    "            ))\n",
    "\n",
    "            # if the model improves, save a checkpoint at this epoch\n",
    "            if val_acc > best_acc:\n",
    "                best_acc = val_acc\n",
    "                torch.save(model.state_dict(), model_path)\n",
    "                print('saving model with acc {:.3f}'.format(best_acc/len(val_set)))\n",
    "    else:\n",
    "        print('[{:03d}/{:03d}] Train Acc: {:3.6f} Loss: {:3.6f}'.format(\n",
    "            epoch + 1, num_epoch, train_acc/len(train_set), train_loss/len(train_loader)\n",
    "        ))\n",
    "\n",
    "# if not validating, save the last epoch\n",
    "if len(val_set) == 0:\n",
    "    torch.save(model.state_dict(), model_path)\n",
    "    print('saving model at last epoch')\n"
   ],
   "execution_count": 51,
   "outputs": [
    {
     "name": "stdout",
     "output_type": "stream",
     "text": [
      "[001/040] Train Acc: 0.610068 Loss: 1.286212 | Val Acc: 0.695512 loss: 0.956370\n",
      "saving model with acc 0.696\n",
      "[002/040] Train Acc: 0.671662 Loss: 1.026968 | Val Acc: 0.712672 loss: 0.880620\n",
      "saving model with acc 0.713\n",
      "[003/040] Train Acc: 0.693124 Loss: 0.946939 | Val Acc: 0.722522 loss: 0.843606\n",
      "saving model with acc 0.723\n",
      "[004/040] Train Acc: 0.708095 Loss: 0.893401 | Val Acc: 0.731303 loss: 0.813120\n",
      "saving model with acc 0.731\n",
      "[005/040] Train Acc: 0.719487 Loss: 0.852423 | Val Acc: 0.731222 loss: 0.811960\n",
      "[006/040] Train Acc: 0.728853 Loss: 0.820257 | Val Acc: 0.738425 loss: 0.789927\n",
      "saving model with acc 0.738\n",
      "[007/040] Train Acc: 0.736537 Loss: 0.791331 | Val Acc: 0.739576 loss: 0.784955\n",
      "saving model with acc 0.740\n",
      "[008/040] Train Acc: 0.744047 Loss: 0.765831 | Val Acc: 0.741706 loss: 0.776670\n",
      "saving model with acc 0.742\n",
      "[009/040] Train Acc: 0.750745 Loss: 0.743086 | Val Acc: 0.744340 loss: 0.770915\n",
      "saving model with acc 0.744\n",
      "[010/040] Train Acc: 0.756105 Loss: 0.723032 | Val Acc: 0.745995 loss: 0.770269\n",
      "saving model with acc 0.746\n",
      "[011/040] Train Acc: 0.762042 Loss: 0.704018 | Val Acc: 0.744173 loss: 0.772437\n",
      "[012/040] Train Acc: 0.767354 Loss: 0.685007 | Val Acc: 0.745133 loss: 0.771722\n",
      "[013/040] Train Acc: 0.772056 Loss: 0.670226 | Val Acc: 0.746035 loss: 0.771423\n",
      "saving model with acc 0.746\n",
      "[014/040] Train Acc: 0.776340 Loss: 0.654787 | Val Acc: 0.745743 loss: 0.776349\n",
      "[015/040] Train Acc: 0.780893 Loss: 0.640910 | Val Acc: 0.748125 loss: 0.772631\n",
      "saving model with acc 0.748\n",
      "[016/040] Train Acc: 0.784992 Loss: 0.628041 | Val Acc: 0.747157 loss: 0.781437\n",
      "[017/040] Train Acc: 0.788217 Loss: 0.616109 | Val Acc: 0.746844 loss: 0.781423\n",
      "[018/040] Train Acc: 0.791296 Loss: 0.604726 | Val Acc: 0.745389 loss: 0.788338\n",
      "[019/040] Train Acc: 0.794989 Loss: 0.593903 | Val Acc: 0.748019 loss: 0.780448\n",
      "[020/040] Train Acc: 0.798624 Loss: 0.582255 | Val Acc: 0.747064 loss: 0.786520\n",
      "[021/040] Train Acc: 0.800367 Loss: 0.575668 | Val Acc: 0.747235 loss: 0.793158\n",
      "[022/040] Train Acc: 0.803484 Loss: 0.565809 | Val Acc: 0.744901 loss: 0.808126\n",
      "[023/040] Train Acc: 0.805943 Loss: 0.557881 | Val Acc: 0.746767 loss: 0.799052\n",
      "[024/040] Train Acc: 0.808520 Loss: 0.550428 | Val Acc: 0.744974 loss: 0.811887\n",
      "[025/040] Train Acc: 0.810548 Loss: 0.542941 | Val Acc: 0.745613 loss: 0.806019\n",
      "[026/040] Train Acc: 0.812835 Loss: 0.536913 | Val Acc: 0.747267 loss: 0.802355\n",
      "[027/040] Train Acc: 0.815190 Loss: 0.529267 | Val Acc: 0.747092 loss: 0.809029\n",
      "[028/040] Train Acc: 0.816990 Loss: 0.523144 | Val Acc: 0.746104 loss: 0.812566\n",
      "[029/040] Train Acc: 0.819090 Loss: 0.516495 | Val Acc: 0.746556 loss: 0.817314\n",
      "[030/040] Train Acc: 0.820823 Loss: 0.511768 | Val Acc: 0.744519 loss: 0.818188\n",
      "[031/040] Train Acc: 0.822129 Loss: 0.506726 | Val Acc: 0.746369 loss: 0.828156\n",
      "[032/040] Train Acc: 0.824600 Loss: 0.499478 | Val Acc: 0.745385 loss: 0.828558\n",
      "[033/040] Train Acc: 0.826041 Loss: 0.495420 | Val Acc: 0.746068 loss: 0.828729\n",
      "[034/040] Train Acc: 0.827261 Loss: 0.491074 | Val Acc: 0.745186 loss: 0.827504\n",
      "[035/040] Train Acc: 0.829397 Loss: 0.485668 | Val Acc: 0.744698 loss: 0.837952\n",
      "[036/040] Train Acc: 0.830517 Loss: 0.481462 | Val Acc: 0.743958 loss: 0.834279\n",
      "[037/040] Train Acc: 0.831989 Loss: 0.476944 | Val Acc: 0.742454 loss: 0.840748\n",
      "[038/040] Train Acc: 0.832640 Loss: 0.473682 | Val Acc: 0.745629 loss: 0.844039\n",
      "[039/040] Train Acc: 0.834485 Loss: 0.469482 | Val Acc: 0.744722 loss: 0.847758\n",
      "[040/040] Train Acc: 0.835827 Loss: 0.465718 | Val Acc: 0.743905 loss: 0.848874\n"
     ]
    }
   ]
  },
  {
   "cell_type": "markdown",
   "metadata": {
    "id": "1Hi7jTn3PX-m"
   },
   "source": [
    "## Testing"
   ]
  },
  {
   "cell_type": "markdown",
   "metadata": {
    "id": "NfUECMFCn5VG"
   },
   "source": [
    "Create a testing dataset, and load model from the saved checkpoint."
   ]
  },
  {
   "cell_type": "code",
   "metadata": {
    "id": "1PKjtAScPWtr",
    "colab": {
     "base_uri": "https://localhost:8080/"
    },
    "outputId": "8c17272b-536a-4692-a95f-a3292766c698",
    "ExecuteTime": {
     "end_time": "2024-03-22T13:21:40.450002Z",
     "start_time": "2024-03-22T13:21:39.641128Z"
    }
   },
   "source": [
    "# create testing dataset\n",
    "test_set = TIMITDataset(test, None)\n",
    "test_loader = DataLoader(test_set, batch_size=BATCH_SIZE, shuffle=False)\n",
    "\n",
    "# create model and load weights from checkpoint\n",
    "model = Classifier().to(device)\n",
    "model.load_state_dict(torch.load(model_path))"
   ],
   "execution_count": 55,
   "outputs": [
    {
     "data": {
      "text/plain": "<All keys matched successfully>"
     },
     "execution_count": 55,
     "metadata": {},
     "output_type": "execute_result"
    }
   ]
  },
  {
   "cell_type": "markdown",
   "metadata": {
    "id": "940TtCCdoYd0"
   },
   "source": [
    "Make prediction."
   ]
  },
  {
   "cell_type": "code",
   "metadata": {
    "id": "84HU5GGjPqR0",
    "ExecuteTime": {
     "end_time": "2024-03-22T13:21:58.730110Z",
     "start_time": "2024-03-22T13:21:43.263719Z"
    }
   },
   "source": [
    "predict = []\n",
    "model.eval() # set the model to evaluation mode\n",
    "with torch.no_grad():\n",
    "    for i, data in enumerate(test_loader):\n",
    "        inputs = data\n",
    "        inputs = inputs.to(device)\n",
    "        outputs = model(inputs)\n",
    "        _, test_pred = torch.max(outputs, 1) # get the index of the class with the highest probability\n",
    "\n",
    "        for y in test_pred.cpu().numpy():\n",
    "            predict.append(y)"
   ],
   "execution_count": 56,
   "outputs": []
  },
  {
   "cell_type": "markdown",
   "metadata": {
    "id": "AWDf_C-omElb"
   },
   "source": [
    "Write prediction to a CSV file.\n",
    "\n",
    "After finish running this block, download the file `prediction.csv` from the files section on the left-hand side and submit it to Kaggle."
   ]
  },
  {
   "cell_type": "code",
   "metadata": {
    "id": "GuljYSPHcZir",
    "ExecuteTime": {
     "end_time": "2024-03-22T11:07:17.441037Z",
     "start_time": "2024-03-22T11:07:17.134757Z"
    }
   },
   "source": [
    "with open('prediction.csv', 'w') as f:\n",
    "    f.write('Id,Class\\n')\n",
    "    for i, y in enumerate(predict):\n",
    "        f.write('{},{}\\n'.format(i, y))"
   ],
   "execution_count": 54,
   "outputs": []
  }
 ]
}
